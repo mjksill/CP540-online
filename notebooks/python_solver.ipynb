{
 "cells": [
  {
   "cell_type": "markdown",
   "metadata": {
    "id": "JKjb_DiWA7ai"
   },
   "source": [
    "# Numerically solving algebraic equations in Python\n",
    "\n",
    "\n",
    "In many problems that we will encounter, we will need to find the solution to an algebraic equation or a set of algebraic equations.  While certain situations, these equations can be solved analytically, often this is not possible.  In this case, numerical methods need to be used.  In this notebook, we demonstrate how to use Python to solve algebraic equations.  Note that these equations can be non-linear, and as a result, there is the possibility that they can can no solutions or multiple solutions."
   ]
  },
  {
   "cell_type": "markdown",
   "metadata": {
    "id": "9G5FdzpFA7al"
   },
   "source": [
    "## Solving a single algebraic equation\n",
    "\n",
    "Let's try to solve the equation\n",
    "\\begin{align*}\n",
    "x = e^{-x}\n",
    ",\n",
    "\\end{align*}\n",
    "which cannot be solved analytically.\n",
    "\n",
    "The first thing we do to find a numerical solution is to transform the equation into a form $f(x)=0$:\n",
    "\\begin{align*}\n",
    "x - e^{-x} = 0\n",
    "\\end{align*}\n",
    "If we define the function $f(x)=x - e^{-x}$, we see that for a general value of $x$, the function is not equal to zero; values of $x$ where $f(x)=0$ correspond to solutions of the equation.  Let's see what this function looks like on a plot.\n"
   ]
  },
  {
   "cell_type": "code",
   "execution_count": null,
   "metadata": {
    "colab": {
     "base_uri": "https://localhost:8080/",
     "height": 279
    },
    "id": "ZmOuUKLuA7an",
    "outputId": "c38db528-3bdb-44e5-f635-f305487f358c"
   },
   "outputs": [],
   "source": [
    "import pylab as plt\n",
    "import numpy as np\n",
    "\n",
    "def f(x):\n",
    "    return x - np.exp(-x)\n",
    "\n",
    "\n",
    "x_data = np.arange(0.0, 2.0, 0.01)\n",
    "y_data= [f(x) for x in x_data]\n",
    "plt.plot(x_data, y_data)\n",
    "\n",
    "plt.hlines(0.0, xmin=0.0, xmax=2.0, ls='dotted')\n",
    "plt.xlim([0.0, 2.0])\n",
    "plt.xlabel(r'$x$')\n",
    "plt.ylabel(r'$f(x)$')\n",
    "\n",
    "plt.show()"
   ]
  },
  {
   "cell_type": "markdown",
   "metadata": {
    "id": "ywf3P5sKA7ao"
   },
   "source": [
    "From this plot, we see that the function crosses zero once, at least for the range of values of $x$ that we have examined.  This implies that there is exactly one solution within this range of values. \n",
    "\n",
    "We can obtain an estimate of the solution by using the bisection method, where we slowly close in on the value of $x$ at which $f(x)=0$.  This can be done using the `bisect` function from the`scipy.optimize` library.  For more information on the use of this function, your can refer to its `scipy` reference \n",
    "[page](https://docs.scipy.org/doc/scipy/reference/generated/scipy.optimize.bisect.html).\n",
    "\n",
    "In order to use `bisect`,\n",
    "first, we define the function $f$, and then we need to pass it the values of $x$ which bracket the solution.  From the graph, we can use $x_{\\rm min}=0.0$ and $x_{\\rm max}=2.0$."
   ]
  },
  {
   "cell_type": "markdown",
   "metadata": {
    "id": "JfwcebeDA7ap"
   },
   "source": [
    "### Using the function `bisect`"
   ]
  },
  {
   "cell_type": "code",
   "execution_count": null,
   "metadata": {
    "id": "qzuM4RYQA7aq",
    "outputId": "7618448f-320c-4cf5-a4d8-8ccb22ae54bc"
   },
   "outputs": [],
   "source": [
    "def f(x):\n",
    "    return x - np.exp(-x)\n",
    "\n",
    "\n",
    "from scipy.optimize import bisect\n",
    "\n",
    "xmin = 0.0\n",
    "xmax = 2.0\n",
    "solution = bisect(f, a=xmin, b=xmax)\n",
    "\n",
    "print(solution)"
   ]
  },
  {
   "cell_type": "markdown",
   "metadata": {
    "id": "iYInERr1A7ar"
   },
   "source": [
    "You should test `bisect` by trying to find the solution to other equations (e.g., finding the zeros of a quadratic or cubic polynomial) and see what happens when there are multiple roots in an interval.\n",
    "\n",
    "The advantage of using `bisect` is that it will always find a root.  A disadvantage, however, this requires that you already know the region in which a solution to the equation exists.  Another disadvantage is that it is limited to solving a single algebraic equation.\n",
    "\n"
   ]
  },
  {
   "cell_type": "markdown",
   "metadata": {
    "id": "tS5wZDDgBKoG"
   },
   "source": [
    "#### **Practice Exercise**\n",
    "\n",
    "**Q1**. Find the roots of the quadratic $x^{2}$ - 2$x$ - 15 using the `bisect` function.\n"
   ]
  },
  {
   "cell_type": "markdown",
   "metadata": {
    "id": "KrjtuTnXBnQA"
   },
   "source": [
    "**Exercise Solution**"
   ]
  },
  {
   "cell_type": "code",
   "execution_count": null,
   "metadata": {
    "colab": {
     "base_uri": "https://localhost:8080/",
     "height": 296
    },
    "id": "ozhik1dmBlQc",
    "outputId": "c3a8c61f-c1cc-4912-8970-54847c1efd57"
   },
   "outputs": [],
   "source": [
    "import pylab as plt\n",
    "import numpy as np\n",
    "\n",
    "def f(x):\n",
    "    return x**2 - 2*x - 15\n",
    "\n",
    "\n",
    "x_data = np.arange(-6, 8, 0.01)\n",
    "y_data= [f(x) for x in x_data]\n",
    "plt.plot(x_data, y_data)\n",
    "\n",
    "plt.xlabel(r'$x$')\n",
    "plt.ylabel(r'$f(x)$')\n",
    "\n",
    "plt.show()\n",
    "\n",
    "from scipy.optimize import bisect\n",
    "\n",
    "xmin = -5.0  #This range will return the root of -3 using `bisect`. To return the other root, 5, use xmin = 0 and xmax = 6\n",
    "xmax = 0.0\n",
    "solution = bisect(f, a=xmin, b=xmax)\n",
    "\n",
    "print(solution)"
   ]
  },
  {
   "cell_type": "markdown",
   "metadata": {
    "id": "ZfQMMtx3CFPi"
   },
   "source": [
    "Note that we see the `bisect` function returns a single value despite there being two real and unique solutions to the quadratic. The solution that it returns will depend on the guess values you use. "
   ]
  },
  {
   "cell_type": "markdown",
   "metadata": {
    "id": "Pq0eSK9fA7as"
   },
   "source": [
    "### Using the function `fsolve`\n",
    "\n",
    "Another function that we can use to solve algebraic equations, as well as systems of algebraic equations, is `fsolve`, again from the `scipy.optimize` library.  To solve a single algebraic equation, `fsolve` works very similarly to `bisect`.  First we need to create the function $f$; however, this time, we need an initial guess for the solution.  A code for solving the equation $f(x)=0$ is shown below"
   ]
  },
  {
   "cell_type": "code",
   "execution_count": null,
   "metadata": {
    "colab": {
     "base_uri": "https://localhost:8080/"
    },
    "id": "nA7OW6QNA7at",
    "outputId": "a28634dc-ee00-4c9f-e259-021e13899a38"
   },
   "outputs": [],
   "source": [
    "import numpy as np\n",
    "from scipy.optimize import fsolve\n",
    "\n",
    "def f(x):\n",
    "    return x - np.exp(-x)\n",
    "\n",
    "x0 = 1.0\n",
    "solution = fsolve(f, x0)\n",
    "\n",
    "print(solution)"
   ]
  },
  {
   "cell_type": "markdown",
   "metadata": {
    "id": "4M38KZcBA7au"
   },
   "source": [
    "If an equation has multiple solutions, then the particular solution that `fsolve` finds will depend on the initial guess.  One big disadvantage of `fsolve` is that even if an equation has a solution, it may not be able to find it.  Its ability to locate the solution depends on the quality of the initial guess."
   ]
  },
  {
   "cell_type": "markdown",
   "metadata": {
    "id": "CPlXt1h2A7ax"
   },
   "source": [
    "## Solving systems of algebraic equations\n",
    "\n",
    "Now let's explore the solution of systems of equations.  Consider the following:\n",
    "\\begin{align*}\n",
    "y &= x\n",
    "\\\\\n",
    "x^2 + y^2 &= 1\n",
    "\\end{align*}\n",
    "The first equation represents a line passing through the origin with a slope of $+1$, while the second equation is a circle of radius $1$ that is centered at the origin.  Graphically, the solution corresponds to an intersection between the line and the circle.  A plot of this is shown below."
   ]
  },
  {
   "cell_type": "code",
   "execution_count": null,
   "metadata": {
    "colab": {
     "base_uri": "https://localhost:8080/",
     "height": 279
    },
    "id": "_URKjm1hA7ay",
    "outputId": "3ad4e1a2-cf43-4154-89e1-8326884936e8",
    "scrolled": true
   },
   "outputs": [],
   "source": [
    "from pylab import *\n",
    "from numpy import *\n",
    "\n",
    "\n",
    "x_data = arange(-2.0, 2.0, 0.01)\n",
    "y_data = [x for x in x_data]\n",
    "plot(x_data, y_data, color='red')\n",
    "\n",
    "x_data = linspace(-1.0, 1.0, 100)\n",
    "y_data = [np.sqrt(1.0-x**2) for x in x_data]\n",
    "plot(x_data, y_data, color='green')\n",
    "y_data = [-np.sqrt(1.0-x**2) for x in x_data]\n",
    "plot(x_data, y_data, color='green')\n",
    "\n",
    "xlabel(r'$x$')\n",
    "ylabel(r'$y$')\n",
    "\n",
    "ax = gca() #you first need to get the axis handle\n",
    "ax.set_aspect(1) #sets the height to width ratio to 1.5.\n",
    "show()\n",
    "\n",
    "\n"
   ]
  },
  {
   "cell_type": "markdown",
   "metadata": {
    "id": "khfTT7xgA7ay"
   },
   "source": [
    "As with the case for solving one equation, we need to recast these equations in the form $f(x,y)=0$ and $g(x,y)=0$:\n",
    "\\begin{align*}\n",
    "f(x,y) &= y - x\n",
    "\\\\\n",
    "g(x,y) &= x^2 + y^2 - 1\n",
    "\\end{align*}\n",
    "\n",
    "In order to use `fsolve` to determine the solution of these equations, we need to create a function that will tell it what the values of $f$ and $g$ for any value of $x$ and $y$.  `fsolve` will pass the values of $x$ and $y$ to this function as a list, and it expects the function to return the values of $f$ and $g$ in a list.\n",
    "\n",
    "In the code below, we call this function `residual`.  As an initial guess for the solution, we use $x=1$ and $y=0$."
   ]
  },
  {
   "cell_type": "code",
   "execution_count": null,
   "metadata": {
    "id": "IJi_QYdlA7az",
    "outputId": "fede535a-57e4-40a8-cfa2-58c0f9d6062b"
   },
   "outputs": [],
   "source": [
    "from scipy.optimize import fsolve\n",
    "\n",
    "def residual(x):\n",
    "    \n",
    "    f = []\n",
    "    f.append( x[0] - x[1] )\n",
    "    f.append( x[0]**2 + x[1]**2 - 1.0)\n",
    "    \n",
    "    return f\n",
    "\n",
    "x0 = [1.0, 0.0]\n",
    "solution = fsolve(residual, x0)\n",
    "print(solution)\n"
   ]
  },
  {
   "cell_type": "markdown",
   "metadata": {
    "id": "hGXwNT56A7az"
   },
   "source": [
    "For this guess we find the solution where both $x$ and $y$ are positive.  Try to see what happens when you use different initial guesses.  You can also try to solve other equations, such as the intersection of a parabola and a circle.\n",
    "\n",
    "For more information on `fsolve`, consult the `scipy` reference [page](https://docs.scipy.org/doc/scipy/reference/generated/scipy.optimize.fsolve.html).\n",
    "\n",
    "Examples of using `bisect` and `fsolve` to solve CP101 problems can be found at the links below:\n",
    "- CP101: Tutorial 17, Question 1: [notebook](./CP101T17Q1.ipynb)\n",
    "- CP101: Tutorial 17, Question 1, alternate solution: [notebook](./CP101T17Q1-2.ipynb)\n",
    "- CP101: Tutorial 17, Question 2: [notebook](./CP101T17Q2.ipynb)\n",
    "- CP101: Example 7.5: [notebook](./CP101E7.5.ipynb)\n"
   ]
  },
  {
   "cell_type": "markdown",
   "metadata": {
    "id": "rxbZ0w4sQcGy"
   },
   "source": [
    "#### **Practice Exercise**\n",
    "\n",
    "**Q1**. Now try the same method to solve these two equations:\n",
    "\\begin{align*}\n",
    "y &= 0.5x - 1\n",
    "\\\\\n",
    "(x-1)^2 + y^2 &= 6\n",
    "\\end{align*}\n",
    "\n",
    "*Hint: the circle has a radius of 2.45*"
   ]
  },
  {
   "cell_type": "markdown",
   "metadata": {
    "id": "eXk8u3zTQhrf"
   },
   "source": [
    "**Exercise Solution**"
   ]
  },
  {
   "cell_type": "code",
   "execution_count": null,
   "metadata": {
    "colab": {
     "base_uri": "https://localhost:8080/",
     "height": 298
    },
    "id": "t6cDHfUEQbG5",
    "outputId": "769c97ce-5917-469b-a5ed-6715b678920a"
   },
   "outputs": [],
   "source": [
    "from pylab import *\n",
    "from numpy import *\n",
    "\n",
    "\n",
    "x_data = arange(-2.0, 4.0, 0.01)\n",
    "y_data = [0.5*x - 1 for x in x_data]\n",
    "plot(x_data, y_data, color='red')\n",
    "\n",
    "x_data = arange(1-sqrt(6.0), 1+sqrt(6), 0.001)\n",
    "y_data = [np.sqrt(2*x + 5 - x**2) for x in x_data]\n",
    "plot(x_data, y_data, color='blue')\n",
    "\n",
    "y_data = [-np.sqrt(2*x + 5 - x**2) for x in x_data]\n",
    "plot(x_data, y_data, color='blue')\n",
    "\n",
    "xlabel(r'$x$')\n",
    "ylabel(r'$y$')\n",
    "\n",
    "ax = gca()\n",
    "ax.set_aspect(1) \n",
    "show()\n",
    "\n",
    "from scipy.optimize import fsolve\n",
    "\n",
    "def residual(x):\n",
    "    \n",
    "    f = []\n",
    "    f.append( x[1] - 0.5*x[0] + 1.0 )\n",
    "    f.append( x[1]**2 + x[0]**2 - 2*x[0] - 5.0)\n",
    "    \n",
    "    return f\n",
    "\n",
    "x0 = [3.0, 0.0]\n",
    "solution = fsolve(residual, x0)\n",
    "print(solution)"
   ]
  }
 ],
 "metadata": {
  "colab": {
   "collapsed_sections": [],
   "name": "Copy of python_solver.ipynb",
   "provenance": []
  },
  "kernelspec": {
   "display_name": "Python 3 (ipykernel)",
   "language": "python",
   "name": "python3"
  },
  "language_info": {
   "codemirror_mode": {
    "name": "ipython",
    "version": 3
   },
   "file_extension": ".py",
   "mimetype": "text/x-python",
   "name": "python",
   "nbconvert_exporter": "python",
   "pygments_lexer": "ipython3",
   "version": "3.10.6"
  }
 },
 "nbformat": 4,
 "nbformat_minor": 1
}
