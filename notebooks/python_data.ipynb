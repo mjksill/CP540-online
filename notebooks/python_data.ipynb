{
 "cells": [
  {
   "cell_type": "markdown",
   "id": "e8d217ea",
   "metadata": {},
   "source": [
    "# Interpolating and fitting data using Python\n",
    "\n",
    "\n",
    "Often, data are provided in the form of plots.  While this is useful if we are interested in qualitative trends, this makes using the data in calculations awkward.  In these situations, we can use digitization programs, such as\n",
    "[Web Plot Digitizer](https://apps.automeris.io/wpd/)\n",
    "to convert images into tables of data, which as more convenient to utilize.\n",
    "\n",
    "In this workbook, we will be using Python to interpolate and fit data that are provided in tabular format, such as in CSV files.  This encodes the data in a form that can be easily evaluated by the computer and subsequently used in more sophistocated manners.\n",
    "\n",
    "First we cover fitting of mathematical models using the method of least squares.  This will use the optimization routine `minimize` from the `scipy.optimize` library.  Then we will look at interpolating data using cubic splines.  This utilizes the routines `splrep` and `splev` from the `scipy.interpolate` library.\n",
    "\n"
   ]
  },
  {
   "cell_type": "markdown",
   "id": "34b7e77c",
   "metadata": {},
   "source": [
    "## Least squares fit of data\n",
    "\n",
    "\n",
    "\n",
    "Let's suppose that based on some theory, we know that data should follow the following mathematical expression \n",
    "$$\n",
    "y(x) = A e^{-a x} + b\n",
    "$$\n",
    "where $A$, $a$, and $b$ are parameters of the model, which are unknown to us."
   ]
  },
  {
   "cell_type": "code",
   "execution_count": null,
   "id": "e5cffb06",
   "metadata": {},
   "outputs": [],
   "source": []
  },
  {
   "cell_type": "code",
   "execution_count": null,
   "id": "cd62b8f8",
   "metadata": {
    "scrolled": true
   },
   "outputs": [],
   "source": [
    "import numpy as np\n",
    "import pylab as plt\n",
    "from scipy.optimize import minimize\n",
    "\n",
    "\n",
    "x_data = np.linspace(0.0, 10.0, 100)\n",
    "y_exact = [np.exp(-x) for x in x_data]\n",
    "sig = 0.1\n",
    "#yerr = np.random.normal(0.0, sig, size=len(y_exact)\n",
    "y_data = [y + np.random.normal(0.0, sig) for y in y_exact]\n",
    "\n",
    "\n",
    "plt.plot(x_data, y_data, 'o')\n",
    "plt.show()\n",
    "\n",
    "\n"
   ]
  },
  {
   "cell_type": "code",
   "execution_count": null,
   "id": "eb148a2f",
   "metadata": {
    "scrolled": true
   },
   "outputs": [],
   "source": [
    "def model(x, params):\n",
    "    A, a, b = params\n",
    "    return A*np.exp(-a*x) + b\n",
    "\n",
    "\n",
    "def fobj(params):\n",
    "    err2 = 0.0\n",
    "    for x, y in zip(x_data, y_data):\n",
    "        err = y - model(x, params)\n",
    "        err2 += err*err\n",
    "    return err2    \n",
    "\n",
    "\n",
    "params0 = [10, 3, 1]\n",
    "\n",
    "popt = minimize(fobj, params0)\n",
    "\n",
    "print(popt)\n",
    "print(popt['x'])\n",
    "\n",
    "x_fit = np.linspace(0.0, 10.0, 100)\n",
    "y_fit = [model(x, popt['x']) for x in x_fit]\n",
    "plt.plot(x_fit, y_fit)\n",
    "plt.plot(x_data, y_data, 'o')\n",
    "plt.show()\n",
    "    "
   ]
  },
  {
   "cell_type": "markdown",
   "id": "621ffeb8",
   "metadata": {},
   "source": [
    "## Interpolation of data\n",
    "\n",
    "\n"
   ]
  },
  {
   "cell_type": "code",
   "execution_count": null,
   "id": "cb243aed",
   "metadata": {},
   "outputs": [],
   "source": [
    "x_data = np.random.uniform(0.0, 10.0, 20)\n",
    "x_data.sort()\n",
    "y_data = [np.sin(x)*np.exp(-x) for x in x_data]\n",
    "\n",
    "\n",
    "plt.plot(x_data, y_data, 'o')\n",
    "plt.xlabel(r'$x$')\n",
    "plt.ylabel(r'$y$')\n",
    "plt.show()"
   ]
  },
  {
   "cell_type": "code",
   "execution_count": null,
   "id": "6162d271",
   "metadata": {
    "scrolled": true
   },
   "outputs": [],
   "source": [
    "from scipy.interpolate import splrep, splev, splint\n",
    "\n",
    "\n",
    "fit = splrep(x_data, y_data)\n",
    "\n",
    "x_interp = np.linspace(0.0, 10, 100)\n",
    "y_interp = [splev(x, fit) for x in x_interp]\n",
    "y_exact = [np.sin(x)*np.exp(-x) for x in x_interp]\n",
    "\n",
    "plt.plot(x_data, y_data, 'o')\n",
    "plt.plot(x_interp, y_interp, label='cubic interpolation')\n",
    "plt.plot(x_interp, y_exact, color='blue', ls='dashed', label='exact')\n",
    "plt.xlabel(r'$x$')\n",
    "plt.ylabel(r'$y$')\n",
    "plt.legend()\n",
    "plt.show()\n",
    "\n"
   ]
  },
  {
   "cell_type": "markdown",
   "id": "444169a2",
   "metadata": {},
   "source": [
    "We can also obtain integrals over our spline fit function.  To get the integral between points $a$ and $b$ of the interpolated function, we just type: \n",
    "\n",
    "`splint(a, b, fit)`\n",
    "\n",
    "This will return the value of the integral of the function given by `fit` between the limits $a$ and $b$.  "
   ]
  },
  {
   "cell_type": "code",
   "execution_count": null,
   "id": "6e4bcbd3",
   "metadata": {
    "scrolled": true
   },
   "outputs": [],
   "source": [
    "def Y(x):\n",
    "    return -0.5*np.exp(-x)*(np.sin(x)+np.cos(x))\n",
    "\n",
    "x0 = 5\n",
    "\n",
    "yint_interp = [splint(x0, x, fit) for x in x_interp]\n",
    "yint_exact = [Y(x) - Y(x0) for x in x_interp]\n",
    "\n",
    "plt.plot(x_interp, yint_interp, label='cubic interpolation', color='orange')\n",
    "plt.plot(x_interp, yint_exact, color='blue', ls='dashed', label='exact')\n",
    "plt.xlabel(r'$x$')\n",
    "plt.ylabel(r\"$\\int_{x_0}^x dx'\\,y(x')$\")\n",
    "plt.legend()\n",
    "plt.show()\n",
    "\n",
    "\n"
   ]
  },
  {
   "cell_type": "code",
   "execution_count": null,
   "id": "c9d37863",
   "metadata": {},
   "outputs": [],
   "source": [
    "y1_interp = [splev(x, fit, der=1) for x in x_interp]\n",
    "y1_exact = [np.cos(x)*np.exp(-x)-np.sin(x)*np.exp(-x) for x in x_interp]\n",
    "\n",
    "plt.plot(x_interp, y1_interp, label='cubic interpolation', color='orange')\n",
    "plt.plot(x_interp, y1_exact, color='blue', ls='dashed', label='exact')\n",
    "plt.xlabel(r'$x$')\n",
    "plt.ylabel(r'$dy/dx$')\n",
    "plt.legend()\n",
    "plt.show()"
   ]
  },
  {
   "cell_type": "markdown",
   "id": "be13546c",
   "metadata": {},
   "source": [
    "## Fitting adsorption isotherms\n",
    "\n",
    "In this exercise, we will examine adsorption data for water vapor in zeolite 13X as published by [Zabielska et al. (2020)](https://dx.doi.org/10.24425/cpe.2020.132542).  \n",
    "\n",
    "To begin, digitize the data shown in Fig. 3 of the paper, using [Web Plot Digitizer](https://apps.automeris.io/wpd/), to create a CSV file with the adsorption of water $q$ (in units of mol/kg) as a function of partial pressure (in units of Pa) for different temperatures.  \n",
    "\n"
   ]
  },
  {
   "cell_type": "markdown",
   "id": "6d32c322",
   "metadata": {},
   "source": [
    "Once you have uploaded the adsorption data, first try to fit the various isotherms with the Langmuir model: \n",
    "$$\n",
    "\\begin{align*}\n",
    "\\frac{q}{q_{\\rm max}}\n",
    "&= \\frac{K p}{1+K p}\n",
    "\\end{align*}\n",
    "$$\n",
    "where the parameters of the model are $q_{\\rm max}$, the maximum adsorption, and $K$, an adsorption constant related to the free energy of adsorption."
   ]
  },
  {
   "cell_type": "code",
   "execution_count": null,
   "id": "7f408fb9",
   "metadata": {},
   "outputs": [],
   "source": [
    "import pandas as pd\n",
    "from scipy.optimize import curve_fit, minimize\n",
    "\n",
    "\n",
    "# Langmuir isotherm\n",
    "def get_q(p, params):\n",
    "    qmax, K = params\n",
    "    q = qmax*\n",
    "    p = x / (1.0-x)**a  / (a*K)\n",
    "    return q\n",
    "\n",
    "\n",
    "def fobj(params):\n",
    "    err2 = 0.0\n",
    "    for p, q in zip(p_data, q_data):\n",
    "        err = q - get_q(p, params)\n",
    "        err2 += err*err\n",
    "    return err2\n",
    "\n",
    "\n",
    "params0 = [qmax, K]\n",
    "popt = minimize(fobj, params0)\n",
    "\n",
    "\n",
    "\n",
    "\n",
    "plt.plot(p_data, q_data, 'o')\n",
    "plt.show()\n",
    "\n"
   ]
  },
  {
   "cell_type": "markdown",
   "id": "f7a5e7af",
   "metadata": {},
   "source": [
    "Now try to fit the adsorption data with the BET isotherm\n",
    "$$\n",
    "\\begin{align*}\n",
    "\\frac{q}{q_{\\rm max}}\n",
    "&= \\frac{c p}{(1-p_0)(p_0+p(c-1))}\n",
    "\\end{align*}\n",
    "$$\n",
    "where the parameters of the model are $q_{\\rm max}$, the adsorption of a monolayer, $p_0$, the condensation pressure, and $c$, the BET constant. "
   ]
  },
  {
   "cell_type": "markdown",
   "id": "3fbc042d",
   "metadata": {},
   "source": [
    "## Interpolation of the enthalpy of mixtures\n",
    "\n",
    "The figure below plots the specific enthalpy of mixtures of sulfuric acid and water at various temperatures.\n",
    "\n",
    "![Enthalpy of mixing](./sulfuricacid-water.png)\n",
    "\n",
    "\n",
    "In this exercise, we will first digitize the data in the figure, isotherm by isotherm using \n",
    "[Web Plot Digitizer](https://apps.automeris.io/wpd/), and download the data in a CSV file.  Afterward, upload the data into a Pandas dataframe.  Note it will be convenient for you to change the header of the CSV file before you try to upload it using Pandas.\n",
    "\n",
    "\n"
   ]
  },
  {
   "cell_type": "markdown",
   "id": "b881e23b",
   "metadata": {},
   "source": [
    "\n",
    "1. Plot the variation of the heat capacity with temperature of a 80wt% sulfuric acid solution.  Use SI units.  Note that $1\\,{\\rm Btu}=1055.06\\,{\\rm J}$, and $1\\,{\\rm lb}=0.453592\\,{\\rm kg}$.\n",
    "\n",
    "2. One kilogram of water at $0^\\circ{\\rm C}$ is mixed with one kilogram of an 90wt% sulfuric acid solution at $25^\\circ{\\rm C}$.  If this is performed adiabatically, what is the final temperature of the mixture?"
   ]
  },
  {
   "cell_type": "code",
   "execution_count": null,
   "id": "0fb52b57",
   "metadata": {},
   "outputs": [],
   "source": []
  },
  {
   "cell_type": "markdown",
   "id": "23c8a2e6",
   "metadata": {},
   "source": [
    "### Questions"
   ]
  }
 ],
 "metadata": {
  "kernelspec": {
   "display_name": "Python 3 (ipykernel)",
   "language": "python",
   "name": "python3"
  },
  "language_info": {
   "codemirror_mode": {
    "name": "ipython",
    "version": 3
   },
   "file_extension": ".py",
   "mimetype": "text/x-python",
   "name": "python",
   "nbconvert_exporter": "python",
   "pygments_lexer": "ipython3",
   "version": "3.10.8"
  }
 },
 "nbformat": 4,
 "nbformat_minor": 5
}
