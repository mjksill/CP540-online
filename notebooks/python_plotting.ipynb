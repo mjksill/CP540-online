{
  "cells": [
    {
      "cell_type": "markdown",
      "metadata": {
        "id": "croFjsVbDSOC"
      },
      "source": [
        "# Plotting with Python\n",
        "In the [previous notebook](python_numpy.ipynb), we explored the python library Numpy. In this notebook, we will cover the Matplotlib.\n",
        "\n",
        "The library Matplotlib enables us to create graphs to visualize data.\n",
        "To see some examples of the types of figures that we can create using\n",
        "Matplotlib, see the [gallery page](https://matplotlib.org/3.1.1/gallery/index.html).  This not only shows you what is\n",
        "possible, but it also gives you the Python code used to generate the\n",
        "figures.  In this notebook, we will be focusing mainly on creating scatter\n",
        "plots.  \n"
      ]
    },
    {
      "cell_type": "markdown",
      "metadata": {
        "id": "4-_p7qMTDSOF"
      },
      "source": [
        "## Importing the library\n",
        "\n",
        "To get started, we import the `pyplot` sublibrary from `matplotlib`:"
      ]
    },
    {
      "cell_type": "code",
      "execution_count": null,
      "metadata": {
        "id": "P8vRM_63DSOF"
      },
      "outputs": [],
      "source": [
        "from matplotlib import pyplot as plt\n",
        "# or\n",
        "import matplotlib.pyplot as plt\n",
        "# or even\n",
        "import pylab as plt"
      ]
    },
    {
      "cell_type": "markdown",
      "metadata": {
        "id": "vk5_tqlkDSOG"
      },
      "source": [
        "Either of the three ways of importing the library will allow us to start accessing functions in `matplotlib.pylab`.\n",
        "\n"
      ]
    },
    {
      "cell_type": "markdown",
      "metadata": {
        "id": "f6J4m2idDSOG"
      },
      "source": [
        "To access members of the pyplot module, we just prepend the nickname followed by a period to the function.  For exmple, to acces the `plot` function from `plt` we would write `plt.plot`.\n",
        "\n",
        "We can do some simple plotting:"
      ]
    },
    {
      "cell_type": "markdown",
      "metadata": {
        "id": "CoMZeP8pDSOG"
      },
      "source": [
        "## Plotting a simple figure\n",
        "\n",
        "To make a scatter plot, we use the function `plot` from `matplotlib.pylab`.  This creates a scatter plot given two lists: one containing the $x$ values of a set of points, and the other containing the $y$ values.  \n",
        "\n",
        "For our first figure, we plot three points, located at $(1,1.5)$, $(2,2.5)$, and $(3,3.5)$."
      ]
    },
    {
      "cell_type": "code",
      "execution_count": null,
      "metadata": {
        "id": "ALy5eRE0DSOH"
      },
      "outputs": [],
      "source": [
        "plt.plot([1, 2, 3], [1.5, 2.5, 3.5])\n",
        "plt.show()\n",
        "\n",
        "# plt.plot(x, y, style, **options)\n",
        "# for more info:\n",
        "help(plt.plot)"
      ]
    },
    {
      "cell_type": "markdown",
      "metadata": {
        "id": "aQI2J6BTDSOH"
      },
      "source": [
        "The function `plot` sets up the graph, while the function `show` displays it.  The default is to give a simple line plot.\n",
        "\n",
        "Cool, but we can do so much more. `matplotlib` is extremely feature rich and allows you do produce some incredible plots, suitable for any report, paper, or dissertation.   We can use symbols on the plot, rather than a line, change the color, etc. by adding optional arguments to `plot`.  In addition, we can also add axis labels, a legend, etc. by calling additional functions from `matplotlib.pylab`."
      ]
    },
    {
      "cell_type": "code",
      "execution_count": null,
      "metadata": {
        "id": "cxfml2AvDSOI",
        "scrolled": true
      },
      "outputs": [],
      "source": [
        "plt.plot([1, 2, 3], [1.5, 2.5, 3.5], marker='o', ls='dashed', color='red')\n",
        "\n",
        "plt.xlabel('x values')\n",
        "plt.ylabel('y values')\n",
        "\n",
        "plt.show()\n"
      ]
    },
    {
      "cell_type": "markdown",
      "metadata": {
        "id": "aqStA-HCDSOI"
      },
      "source": [
        "The function `plot` requires are two lists of the same length that give the $x$- and $y$-coordinates of the data.  It does not care how the lists are generated.  As a more complicated example, we can plot the $\\sin$ and $\\cos$ functions from `numpy`.\n",
        "\n"
      ]
    },
    {
      "cell_type": "code",
      "execution_count": null,
      "metadata": {
        "id": "DrbPM5qkDSOI"
      },
      "outputs": [],
      "source": [
        "import numpy as np\n",
        "\n",
        "x_data = np.arange(0.0, 2.0*np.pi, 0.01)\n",
        "\n",
        "y_data = [np.sin(x) for x in x_data]\n",
        "plt.plot(x_data, y_data, color='black', label='sin')\n",
        "\n",
        "y_data = [np.cos(x) for x in x_data]\n",
        "plt.plot(x_data, y_data, color='red', label='cos')\n",
        "\n",
        "plt.xlabel('$x$')\n",
        "plt.ylabel('$f(x)$')\n",
        "plt.legend()\n",
        "\n",
        "plt.show()"
      ]
    },
    {
      "cell_type": "markdown",
      "metadata": {
        "id": "xZrv6FkVGNX9"
      },
      "source": [
        "For more information on customising plots, see the [pyplot.plot](https://matplotlib.org/stable/api/_as_gen/matplotlib.pyplot.plot.html) documentation page."
      ]
    },
    {
      "cell_type": "markdown",
      "metadata": {
        "id": "RUDrmdD4DSOI"
      },
      "source": [
        "### Shomate equation\n",
        "\n",
        "We are not limited to plotting library functions.  As a small example of what you can do in `matplotlib`, let's plot the specific heat of nitrogen.\n",
        "\n",
        "The Shomate equation gives the molar heat capacity as\n",
        "\\begin{align*}\n",
        "C_p(T)\n",
        "&= A + B t + C t^2 + D t^3 + E t^{-2}\n",
        "\\end{align*}\n",
        "where $T$ is absolute temperature in kelvin, $t=T/1000$, $C_p$ is molar heat capacity in ${\\rm J\\,mol^{-1}\\,K^{-1}}$, and $A$, $B$, $C$, $D$, and $E$ are constants\n",
        "\n",
        "\n",
        "The parameters of the Shomate equation for nitrogen are given below (taken from the [NIST webbook](https://webbook.nist.gov/cgi/cbook.cgi?ID=C7727379&Type=JANAFG&Table=on#JANAFG)):\n",
        "\n",
        "| Temperature / K | $100.$ - $500.$ |\n",
        "|:--- | ---:| \n",
        "| $A$             |   $ 28.98641$ | \n",
        "| $B$             |   $ 1.853978$ | \n",
        "| $C$             |   $-9.647459$ | \n",
        "| $D$             |   $ 16.63537$ | \n",
        "| $E$             |   $ 0.000117$ |"
      ]
    },
    {
      "cell_type": "markdown",
      "metadata": {
        "id": "iGmUxwwwTEA3"
      },
      "source": [
        "Firstly we define our constants."
      ]
    },
    {
      "cell_type": "code",
      "execution_count": null,
      "metadata": {
        "id": "OeBbNFTtDSOJ"
      },
      "outputs": [],
      "source": [
        "A =  28.98641\n",
        "B =  1.853978\n",
        "C = -9.647459\n",
        "D =  16.63537\n",
        "E =  0.000117"
      ]
    },
    {
      "cell_type": "markdown",
      "metadata": {
        "id": "hSWyzhGKDSOJ"
      },
      "source": [
        "To plot this function, we'll need some $x$ data, and some $y$ data. The $x$ data will be the temperature, and $y$ are the $C_p$ values for the temperatures.\n",
        "\n",
        "To generate a list of temperatures, we can use the `arange` function from numpy. This function takes in up to three arguments: the first is the starting value, the second is the exclusive end (i.e. the range will stop one step before this value), and the final value is the step size."
      ]
    },
    {
      "cell_type": "code",
      "execution_count": null,
      "metadata": {
        "id": "q1_xbLXKDSOK",
        "scrolled": true
      },
      "outputs": [],
      "source": [
        "T_list = np.arange(100.0, 500.0, 1.0)\n",
        "print(T_list)"
      ]
    },
    {
      "cell_type": "markdown",
      "metadata": {
        "id": "O1lLcWsBDSOK"
      },
      "source": [
        "Now for $y$ ($C_p$) we can use a list comprehension:"
      ]
    },
    {
      "cell_type": "code",
      "execution_count": null,
      "metadata": {
        "id": "_V-Z2VZVDSOK"
      },
      "outputs": [],
      "source": [
        "t_list = [T / 1000.0 for T in T_list]\n",
        "Cp_list = [A + B*t + C*t**2 + D*t**3 + E / t**2 for t in t_list]"
      ]
    },
    {
      "cell_type": "markdown",
      "metadata": {
        "id": "OUTYV04aDSOK"
      },
      "source": [
        "And finally to plotting. We can pass extra options to the plot function to tell it how to format the line. The first argument following the $x$ and $y$ values is a string defining the line and marker style (and optionally the colour too)."
      ]
    },
    {
      "cell_type": "code",
      "execution_count": null,
      "metadata": {
        "id": "LSBJt-pfDSOL",
        "scrolled": true
      },
      "outputs": [],
      "source": [
        "plt.plot(T_list, Cp_list, '.--', color='red')\n",
        "\n",
        "# -- means dashed line\n",
        "# . means small circle markers\n",
        "# default is solid line no marker\n",
        "\n",
        "plt.xlabel('Temperature / K')\n",
        "plt.ylabel(r'Specific Heat Capacity / ${\\rm J mol^{-1} K^{-1}}$')\n",
        "\n",
        "plt.show()"
      ]
    },
    {
      "cell_type": "markdown",
      "source": [
        "### **Practice Exercise**\n",
        "\n",
        "Recall the exercise from the functions workbook regarding the container of gas. \n",
        "\n",
        "\"Using the ideal gas law (PV = nRT), if there is 5 $mol$ of an ideal gas in a container of 0.1 $m^{2}$, calcualte the pressure within the container at each temperature from  100ºC to 1000ºC in incremenents of 100ºC.\"\n",
        "\n",
        "Repeat this exercise, but using increments of 10ºC and plot the results."
      ],
      "metadata": {
        "id": "gdIMNwq37Hs1"
      }
    },
    {
      "cell_type": "markdown",
      "source": [
        "**Exercise Solution**"
      ],
      "metadata": {
        "id": "SNM73Cnw7whP"
      }
    },
    {
      "cell_type": "code",
      "source": [
        "V = 1 \n",
        "R = 8.3145\n",
        "n = 5\n",
        "\n",
        "import numpy as np\n",
        "import pylab as plt\n",
        "\n",
        "T_range = np.arange(100, 1001, 10)\n",
        "P_list = [(n * R * (273.15 + T))/V for T in T_range]\n",
        "\n",
        "plt.plot(T_range, P_list, '.--', color='green')\n",
        "plt.xlabel('Temperature / K')\n",
        "plt.ylabel(r'Pressure / Pa')\n",
        "\n",
        "plt.show()"
      ],
      "metadata": {
        "id": "Lpr9nkd27zpN",
        "outputId": "edd16af5-342d-426d-b621-cfde8eef592b",
        "colab": {
          "base_uri": "https://localhost:8080/",
          "height": 279
        }
      },
      "execution_count": 1,
      "outputs": [
        {
          "output_type": "display_data",
          "data": {
            "text/plain": [
              "<Figure size 432x288 with 1 Axes>"
            ],
            "image/png": "[encoded data removed]"
          },
          "metadata": {
            "needs_background": "light"
          }
        }
      ]
    },
    {
      "cell_type": "markdown",
      "metadata": {
        "id": "1wWkRMVoDSOL"
      },
      "source": [
        "### Conclusion\n",
        "\n",
        "In this notebook we've introduced the concept of importing a package into a Python script, as well as briefly discussed using `matplotlib` to plot data.  If you are interested in learning more, see [here](https://matplotlib.org/tutorials/introductory/pyplot.html) for a\n",
        "a more detailed tutorial."
      ]
    }
  ],
  "metadata": {
    "colab": {
      "provenance": [],
      "collapsed_sections": []
    },
    "kernelspec": {
      "display_name": "Python 3",
      "language": "python",
      "name": "python3"
    },
    "language_info": {
      "codemirror_mode": {
        "name": "ipython",
        "version": 3
      },
      "file_extension": ".py",
      "mimetype": "text/x-python",
      "name": "python",
      "nbconvert_exporter": "python",
      "pygments_lexer": "ipython3",
      "version": "3.9.6"
    }
  },
  "nbformat": 4,
  "nbformat_minor": 0
}