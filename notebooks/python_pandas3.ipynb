{
  "nbformat": 4,
  "nbformat_minor": 0,
  "metadata": {
    "colab": {
      "provenance": [],
      "collapsed_sections": [],
      "authorship_tag": "ABX9TyObNYlWnG36SqdQfPeZuAQP",
      "include_colab_link": true
    },
    "kernelspec": {
      "name": "python3",
      "display_name": "Python 3"
    },
    "language_info": {
      "name": "python"
    }
  },
  "cells": [
    {
      "cell_type": "markdown",
      "metadata": {
        "id": "view-in-github",
        "colab_type": "text"
      },
      "source": [
        "<a href=\"https://colab.research.google.com/github/mjksill/CP540-online/blob/main/notebooks/Pandas_3_Importing_Data_from_Website.ipynb\" target=\"_parent\"><img src=\"https://colab.research.google.com/assets/colab-badge.svg\" alt=\"Open In Colab\"/></a>"
      ]
    },
    {
      "cell_type": "markdown",
      "source": [
        "# Importing Data from Websites\n",
        "\n",
        "This worksheet will look at using pandas to import data from websites where csv have been uploaded, and build further on the manipulation of data we seen in the previous worksheet. Today we will use data from [here](https://data.open-power-system-data.org/renewable_power_plants/), which has multiple csv files for different countries showing their renewable energy power power plants and subsequent capacity. "
      ],
      "metadata": {
        "id": "4GBgRsbsKF68"
      }
    },
    {
      "cell_type": "code",
      "source": [
        "import pandas as pd\n",
        "import io\n",
        " \n",
        "All_countries = {'Germany' : 'DE',                          # We can create a dictionary for all the possible countries\n",
        "                 'Denmark' : 'DK',\n",
        "                 'France' : 'FR',\n",
        "                 'Poland' : 'PL',\n",
        "                 'United Kingdom' : 'UK',\n",
        "                 'Switzerland' : 'CH',\n",
        "                 'Sweden' : 'SE',\n",
        "                 'Czech Republic' : 'CZ'}\n",
        "\n",
        "Choosen_country = 'United Kingdom'                          # We can then define the country we want to look at\n",
        "Country = All_countries[Choosen_country]                    # This assigns the country code, i.e. 'UK' to Country\n",
        "\n",
        "URL = f'https://data.open-power-system-data.org/renewable_power_plants/2020-08-25/renewable_power_plants_{Country}.csv'\n",
        "                                                            # This can then be used to pull the specific file we want from the website\n",
        "\n",
        "df = pd.read_csv(URL, lineterminator='\\n', skipinitialspace=True)\n",
        "print(df)\n"
      ],
      "metadata": {
        "colab": {
          "base_uri": "https://localhost:8080/"
        },
        "id": "KfTGjNAIqz-7",
        "outputId": "63b55bbc-25dd-444c-d99c-e4b2be3354af"
      },
      "execution_count": 1,
      "outputs": [
        {
          "output_type": "stream",
          "name": "stdout",
          "text": [
            "      electrical_capacity energy_source_level_1 energy_source_level_2  \\\n",
            "0                     9.9      Renewable energy                 Hydro   \n",
            "1                    19.5      Renewable energy                 Hydro   \n",
            "2                    65.0      Renewable energy                 Hydro   \n",
            "3                    32.0      Renewable energy                 Hydro   \n",
            "4                    15.0      Renewable energy                 Hydro   \n",
            "...                   ...                   ...                   ...   \n",
            "2615                  0.5      Renewable energy                 Solar   \n",
            "2616                  0.2      Renewable energy                 Solar   \n",
            "2617                  0.4      Renewable energy                 Solar   \n",
            "2618                  0.5      Renewable energy                 Solar   \n",
            "2619                  5.0      Renewable energy                 Solar   \n",
            "\n",
            "     energy_source_level_3                       technology data_source  \\\n",
            "0                      NaN  Other or unspecified technology        BEIS   \n",
            "1                      NaN  Other or unspecified technology        BEIS   \n",
            "2                      NaN  Other or unspecified technology        BEIS   \n",
            "3                      NaN  Other or unspecified technology        BEIS   \n",
            "4                      NaN  Other or unspecified technology        BEIS   \n",
            "...                    ...                              ...         ...   \n",
            "2615                   NaN                    Photovoltaics        BEIS   \n",
            "2616                   NaN                    Photovoltaics        BEIS   \n",
            "2617                   NaN                    Photovoltaics        BEIS   \n",
            "2618                   NaN                    Photovoltaics        BEIS   \n",
            "2619                   NaN                    Photovoltaics        BEIS   \n",
            "\n",
            "     nuts_1_region nuts_2_region nuts_3_region       lon  ...   country  \\\n",
            "0              UKL          UKL1         UKL12 -4.033500  ...     Wales   \n",
            "1              UKM          UKM6         UKM63 -4.963406  ...  Scotland   \n",
            "2              UKM          UKM6         UKM63 -5.072590  ...  Scotland   \n",
            "3              UKL          UKL1         UKL13 -3.842614  ...     Wales   \n",
            "4              UKM          UKM7         UKM77 -3.740559  ...  Scotland   \n",
            "...            ...           ...           ...       ...  ...       ...   \n",
            "2615           UKD          UKD3         UKD36 -2.489471  ...   England   \n",
            "2616           UKM          UKM7         UKM72 -3.408873  ...  Scotland   \n",
            "2617           UKH          UKH1         UKH12 -0.039911  ...   England   \n",
            "2618           UKE          UKE1         UKE13 -0.045784  ...   England   \n",
            "2619           UKL          UKL1         UKL16 -2.993490  ...     Wales   \n",
            "\n",
            "     commissioning_date solar_mounting_type  chp capacity_individual_turbine  \\\n",
            "0            1906-01-01                 NaN  NaN                         NaN   \n",
            "1            1909-01-01                 NaN  NaN                         NaN   \n",
            "2            1929-01-01                 NaN  NaN                         NaN   \n",
            "3            1938-01-01                 NaN  NaN                         NaN   \n",
            "4            1950-01-01                 NaN  NaN                         NaN   \n",
            "...                 ...                 ...  ...                         ...   \n",
            "2615         2020-03-27                Roof  NaN                         NaN   \n",
            "2616         2020-03-31              Ground  NaN                         NaN   \n",
            "2617         2020-04-02              Ground  NaN                         NaN   \n",
            "2618         2020-06-03                Roof  NaN                         NaN   \n",
            "2619         2020-12-02              Ground  NaN                         NaN   \n",
            "\n",
            "     number_of_turbines                         site_name uk_beis_id  \\\n",
            "0                   NaN                          Cwm Dyli       4882   \n",
            "1                   NaN  Kinlochleven Hydro Power Station        391   \n",
            "2                   NaN                          Lochaber       6601   \n",
            "3                   NaN                         Dolgarrog       4881   \n",
            "4                   NaN                         Pitlochry        394   \n",
            "...                 ...                               ...        ...   \n",
            "2615                NaN              Tesco Crab Tree Lane       7251   \n",
            "2616                NaN                  St Margarets Bay       7267   \n",
            "2617                NaN          Lamp Hill Wimpole Estate       7269   \n",
            "2618                NaN              Hewitts Avenue Tesco       7448   \n",
            "2619                NaN               Mamhilad Solar Farm       5683   \n",
            "\n",
            "                                operator  comment  \n",
            "0                                    RWE      NaN  \n",
            "1        Hydro Plan (on behalf of Alcan)      NaN  \n",
            "2                           GFG Alliance      NaN  \n",
            "3                                    RWE      NaN  \n",
            "4     Scottish and Southern Energy (SSE)      NaN  \n",
            "...                                  ...      ...  \n",
            "2615                        Tesco Stores      NaN  \n",
            "2616                      Scottish Water      NaN  \n",
            "2617                      National Trust      NaN  \n",
            "2618                         Push Energy      NaN  \n",
            "2619                   Active Renewables      NaN  \n",
            "\n",
            "[2620 rows x 25 columns]\n"
          ]
        }
      ]
    },
    {
      "cell_type": "markdown",
      "source": [
        "As we can see this is a large file with many columns that are either not important to us, or not filled with any data. Thus we should look to remove them. Looking at all the headings when opening the csv file, the only columns we want to keep are 'electrical_capacity', 'energy_source_level_2', 'region' and 'country'. Due to `pandas` indexing, these correspond to columns 0, 2, 14 and 15. So we can go ahead and remove all the other unrequired columns."
      ],
      "metadata": {
        "id": "GK8bTK6PPdwS"
      }
    },
    {
      "cell_type": "code",
      "source": [
        "df = df.drop(df.columns[[1,3,4,5,6,7,8,9,10,11,12,13,16,17,18,19,20,21,22,23,24]], axis=1) \n",
        "\n",
        "print(df)"
      ],
      "metadata": {
        "colab": {
          "base_uri": "https://localhost:8080/"
        },
        "id": "nJWDPLiKj_YY",
        "outputId": "d3691cff-b866-475e-9709-1b3b7535a141"
      },
      "execution_count": 2,
      "outputs": [
        {
          "output_type": "stream",
          "name": "stdout",
          "text": [
            "      electrical_capacity energy_source_level_2                region  \\\n",
            "0                     9.9                 Hydro                 Wales   \n",
            "1                    19.5                 Hydro              Scotland   \n",
            "2                    65.0                 Hydro              Scotland   \n",
            "3                    32.0                 Hydro                 Wales   \n",
            "4                    15.0                 Hydro              Scotland   \n",
            "...                   ...                   ...                   ...   \n",
            "2615                  0.5                 Solar            North West   \n",
            "2616                  0.2                 Solar              Scotland   \n",
            "2617                  0.4                 Solar               Eastern   \n",
            "2618                  0.5                 Solar  Yorkshire and Humber   \n",
            "2619                  5.0                 Solar                 Wales   \n",
            "\n",
            "       country  \n",
            "0        Wales  \n",
            "1     Scotland  \n",
            "2     Scotland  \n",
            "3        Wales  \n",
            "4     Scotland  \n",
            "...        ...  \n",
            "2615   England  \n",
            "2616  Scotland  \n",
            "2617   England  \n",
            "2618   England  \n",
            "2619     Wales  \n",
            "\n",
            "[2620 rows x 4 columns]\n"
          ]
        }
      ]
    },
    {
      "cell_type": "markdown",
      "source": [
        "Now we need to find all the regions where renewable energy plants are stationed in the UK. This can be done by collecting all the unique regions mentioned in the column and collecting them in a list. "
      ],
      "metadata": {
        "id": "e1_CioQrTH0i"
      }
    },
    {
      "cell_type": "code",
      "source": [
        "region = df.region.unique().tolist()                        # This collects all different regions in the column 'region' and puts them in a list for us to use\n",
        "print(region)"
      ],
      "metadata": {
        "colab": {
          "base_uri": "https://localhost:8080/"
        },
        "id": "qD76NG7cP1H6",
        "outputId": "45a34095-8239-4ded-dd63-66ff9f162b23"
      },
      "execution_count": 3,
      "outputs": [
        {
          "output_type": "stream",
          "name": "stdout",
          "text": [
            "['Wales', 'Scotland', 'London', 'East Midlands', 'North East', 'North West', 'Yorkshire and Humber', 'Eastern', 'Northern Ireland', 'West Midlands', 'South West', 'South East', 'Offshore', nan]\n"
          ]
        }
      ]
    },
    {
      "cell_type": "markdown",
      "source": [
        "But wait. At the end of the list we can see there is a region called 'nan'. This isn't a region, it is what pandas puts at a point in the dataframe when there is missing or no data in the corresponding cell in the csv file. We could leave this in, but it's untidy, so it is better to remove it. "
      ],
      "metadata": {
        "id": "G_9bAlR8WZWN"
      }
    },
    {
      "cell_type": "code",
      "source": [
        "df = df.dropna()                                            # This command will remove rows that are missing data in one or more columns\n",
        "\n",
        "places = df.region.unique().tolist()                        # We can create a new list, where 'nan' isn't included\n",
        "print(places)"
      ],
      "metadata": {
        "colab": {
          "base_uri": "https://localhost:8080/"
        },
        "id": "tkOh9L4wWDGv",
        "outputId": "81cb797f-6fbe-4140-cbe4-0b52859ca0fc"
      },
      "execution_count": 4,
      "outputs": [
        {
          "output_type": "stream",
          "name": "stdout",
          "text": [
            "['Wales', 'Scotland', 'London', 'East Midlands', 'North East', 'North West', 'Yorkshire and Humber', 'Eastern', 'Northern Ireland', 'West Midlands', 'South West', 'South East', 'Offshore']\n"
          ]
        }
      ]
    },
    {
      "cell_type": "markdown",
      "source": [
        "Say we now want to find out how much electrical capcaity there is in each region of the UK from these renewable energy plants. We can use a similar method to that used last time when we were calculating the solar energy produced."
      ],
      "metadata": {
        "id": "D4D8KUlkU8cW"
      }
    },
    {
      "cell_type": "code",
      "source": [
        "import pylab as plt\n",
        "import numpy as np\n",
        "\n",
        "sumcapacity = []                                            # Create an empty list to collect the summed capacity in\n",
        "\n",
        "for i in places:\n",
        "   sumcapacity.append((df.loc[df['region'] == i, 'electrical_capacity'].sum()))  # This makes use of the Boolean principles,\n",
        "                                                                              # It will sum the electrical capcaity and deposit in the list created\n",
        "\n",
        "print(sumcapacity)\n",
        "\n",
        "height = sumcapacity                                        # We can then plot a bar graph to show this data\n",
        "bars = places\n",
        "y_pos = np.arange(len(bars))\n",
        "\n",
        "# Create bars\n",
        "plt.bar(y_pos, height)\n",
        "\n",
        "# Create names on the x-axis\n",
        "plt.xticks(y_pos, bars)\n",
        "plt.xticks(rotation=90)\n",
        "\n",
        "plt.xlabel('Regions')\n",
        "plt.ylabel('Electrical Capacity (MW)')\n",
        "\n",
        "# Show graphic\n",
        "plt.show()"
      ],
      "metadata": {
        "colab": {
          "base_uri": "https://localhost:8080/",
          "height": 397
        },
        "id": "z0-GnnctpF42",
        "outputId": "24d02452-4d19-4d89-f01a-36e76b80938f"
      },
      "execution_count": 5,
      "outputs": [
        {
          "output_type": "stream",
          "name": "stdout",
          "text": [
            "[4234.5, 9996.2, 288.19999999999993, 1639.2, 1224.8, 1108.3000000000002, 3950.9000000000005, 2298.5, 1426.2000000000003, 689.2999999999998, 3017.9, 2090.9, 9727.2]\n"
          ]
        },
        {
          "output_type": "display_data",
          "data": {
            "text/plain": [
              "<Figure size 432x288 with 1 Axes>"
            ],
            "image/png": "[encoded data removed]"
          },
          "metadata": {
            "needs_background": "light"
          }
        }
      ]
    },
    {
      "cell_type": "markdown",
      "source": [
        "We can again use a pie chart to show the share of the UK's capacity between regions."
      ],
      "metadata": {
        "id": "q5mlU_rVZXnO"
      }
    },
    {
      "cell_type": "code",
      "source": [
        "# Create a pieplot\n",
        "plt.pie(sumcapacity, labels=places, labeldistance=1.15);\n",
        "\n",
        "plt.show()"
      ],
      "metadata": {
        "colab": {
          "base_uri": "https://localhost:8080/",
          "height": 248
        },
        "id": "KLi23WHVwuzz",
        "outputId": "2be59bec-1dc7-4b1f-d559-8b67b23f1e6d"
      },
      "execution_count": 6,
      "outputs": [
        {
          "output_type": "display_data",
          "data": {
            "text/plain": [
              "<Figure size 432x288 with 1 Axes>"
            ],
            "image/png": "[encoded data removed]"
          },
          "metadata": {}
        }
      ]
    },
    {
      "cell_type": "markdown",
      "source": [
        "We can also apply filters to extract specific data from the dataframe. So for example, we can filter the data down to only renewable solar sources in Scotland, and find the total capacity for solar energy. "
      ],
      "metadata": {
        "id": "mj6YuGP9b1Bz"
      }
    },
    {
      "cell_type": "code",
      "source": [
        "is_scotland =  df['region']=='Scotland'                     # All the rows which contain 'Scotland' in the region column are collected\n",
        "                                                          \n",
        "\n",
        "df_scotland = df[is_scotland]                               # And a new dataframe is made which contains only these rows  \n",
        "print(df_scotland)\n",
        "\n",
        "is_solar = df_scotland['energy_source_level_2']=='Solar'    # We repeat this process, although this time we collect all the rows which contain 'solar' in the source column\n",
        "df_scot_solar = df_scotland[is_solar]                       # And a new dataframe is created again\n",
        "print(df_scot_solar)\n",
        "\n",
        "Total = df_scot_solar['electrical_capacity'].sum()          # We can then sum the values in the second data frame created to find a total value for solar capacity\n",
        "print(f'Scotlands electrical capacity from solar sources is {Total} MW')    # And then print this on the sheet\n"
      ],
      "metadata": {
        "colab": {
          "base_uri": "https://localhost:8080/"
        },
        "id": "21a5h1tObxsX",
        "outputId": "ac9f7ee3-21dc-4b9c-f5f6-b54bfa9885b2"
      },
      "execution_count": 7,
      "outputs": [
        {
          "output_type": "stream",
          "name": "stdout",
          "text": [
            "      electrical_capacity energy_source_level_2    region   country\n",
            "1                    19.5                 Hydro  Scotland  Scotland\n",
            "2                    65.0                 Hydro  Scotland  Scotland\n",
            "4                    15.0                 Hydro  Scotland  Scotland\n",
            "5                     8.0                 Hydro  Scotland  Scotland\n",
            "6                     1.9                 Hydro  Scotland  Scotland\n",
            "...                   ...                   ...       ...       ...\n",
            "2588                 51.0                  Wind  Scotland  Scotland\n",
            "2595                 10.0                  Wind  Scotland  Scotland\n",
            "2599                 88.4                  Wind  Scotland  Scotland\n",
            "2609                 29.9                  Wind  Scotland  Scotland\n",
            "2616                  0.2                 Solar  Scotland  Scotland\n",
            "\n",
            "[484 rows x 4 columns]\n",
            "      electrical_capacity energy_source_level_2    region   country\n",
            "1431                  1.6                 Solar  Scotland  Scotland\n",
            "1703                  1.2                 Solar  Scotland  Scotland\n",
            "1705                  2.4                 Solar  Scotland  Scotland\n",
            "1708                  1.8                 Solar  Scotland  Scotland\n",
            "1726                  1.3                 Solar  Scotland  Scotland\n",
            "1888                  3.8                 Solar  Scotland  Scotland\n",
            "1940                 13.0                 Solar  Scotland  Scotland\n",
            "2040                  5.0                 Solar  Scotland  Scotland\n",
            "2048                  5.0                 Solar  Scotland  Scotland\n",
            "2090                 10.0                 Solar  Scotland  Scotland\n",
            "2264                  5.0                 Solar  Scotland  Scotland\n",
            "2366                  5.0                 Solar  Scotland  Scotland\n",
            "2379                  5.0                 Solar  Scotland  Scotland\n",
            "2403                  5.0                 Solar  Scotland  Scotland\n",
            "2416                  4.0                 Solar  Scotland  Scotland\n",
            "2513                  5.0                 Solar  Scotland  Scotland\n",
            "2568                  0.2                 Solar  Scotland  Scotland\n",
            "2577                  0.2                 Solar  Scotland  Scotland\n",
            "2579                  0.3                 Solar  Scotland  Scotland\n",
            "2616                  0.2                 Solar  Scotland  Scotland\n",
            "Scotlands electrical capacity from solar sources is 75.0 MW\n"
          ]
        }
      ]
    },
    {
      "cell_type": "markdown",
      "source": [
        "A violin plot can be used to show the distribution of the capcaity of all the solar sources."
      ],
      "metadata": {
        "id": "F-HoaRlfkG9b"
      }
    },
    {
      "cell_type": "code",
      "source": [
        "import seaborn as sns\n",
        "\n",
        "sns.set(style=\"darkgrid\")\n",
        "\n",
        " \n",
        "# Make boxplot for one group only\n",
        "ax = sns.violinplot(y=df_scot_solar[\"electrical_capacity\"])\n",
        "# ax = sns.violinplot(y=df_scot_solar[\"electrical_capacity\"], cut =0)         # This line can be used in place of the one above, to give a graph showing no neg. values\n",
        "ax.set_ylabel(\"Electrical Capacity (MW)\")\n",
        "ax.set_xlabel(\"Scotland\")\n",
        "\n",
        "plt.show()"
      ],
      "metadata": {
        "colab": {
          "base_uri": "https://localhost:8080/",
          "height": 277
        },
        "id": "r_joSV_0e27Q",
        "outputId": "d71c8101-ad49-4d11-c468-cf99da8c89df"
      },
      "execution_count": 8,
      "outputs": [
        {
          "output_type": "display_data",
          "data": {
            "text/plain": [
              "<Figure size 432x288 with 1 Axes>"
            ],
            "image/png": "[encoded data removed]"
          },
          "metadata": {}
        }
      ]
    },
    {
      "cell_type": "markdown",
      "source": [
        "Again, we see a negative range on this graph, but as explained in the previous worksheet this isn't negative values of data.\n",
        "\n",
        "Say we now want to look at hydro plants in Scotland and their capacity. "
      ],
      "metadata": {
        "id": "fzkHG7CciQMt"
      }
    },
    {
      "cell_type": "code",
      "source": [
        "is_hydro = df_scotland['energy_source_level_2']=='Hydro'    \n",
        "df_scot_hydro = df_scotland[is_hydro]                       \n",
        "\n",
        "\n",
        "Total = df_scot_hydro['electrical_capacity'].sum()           \n",
        "print(f'Scotlands electrical capacity from hydro sources is {Total} MW')    \n"
      ],
      "metadata": {
        "colab": {
          "base_uri": "https://localhost:8080/"
        },
        "id": "Lvv9gq2fiWvr",
        "outputId": "d3fa3b14-ed74-4da3-9863-275692bbbc6f"
      },
      "execution_count": 9,
      "outputs": [
        {
          "output_type": "stream",
          "name": "stdout",
          "text": [
            "Scotlands electrical capacity from hydro sources is 1292.0 MW\n"
          ]
        }
      ]
    },
    {
      "cell_type": "markdown",
      "source": [
        "### Conclusion\n",
        "\n",
        "We have looked at another dataset, and learnt more about filtering data out to find the results we want. We also now know how to import data directly from a csv file uploaded onto a website. "
      ],
      "metadata": {
        "id": "Fbzz03XxziiQ"
      }
    }
  ]
}