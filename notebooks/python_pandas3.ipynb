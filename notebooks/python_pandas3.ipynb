{
  "nbformat": 4,
  "nbformat_minor": 0,
  "metadata": {
    "colab": {
      "provenance": [],
      "collapsed_sections": []
    },
    "kernelspec": {
      "name": "python3",
      "display_name": "Python 3"
    },
    "language_info": {
      "name": "python"
    }
  },
  "cells": [
    {
      "cell_type": "markdown",
      "metadata": {
        "id": "view-in-github"
      },
      "source": [
        "<a href=\"https://colab.research.google.com/github/mjksill/CP540-online/blob/main/notebooks/Pandas_3_Importing_Data_from_Website.ipynb\" target=\"_parent\"><img src=\"https://colab.research.google.com/assets/colab-badge.svg\" alt=\"Open In Colab\"/></a>"
      ]
    },
    {
      "cell_type": "markdown",
      "source": [
        "# Importing data into Pandas directly from websites\n",
        "\n",
        "This worksheet will look at using pandas to import data from websites where csv have been uploaded, and build further on the manipulation of data we seen in the previous worksheet. Today we will use data from the [Open Power Systems Data site](https://data.open-power-system-data.org/renewable_power_plants/), which has multiple CSV files for different countries showing their renewable energy power power plants and subsequent capacity.  If you hover over the links for each country, you will see that there is a URL associated with each CSV file.  Instead of downloading the CSV file from the website and then uploading it into Python, we can directly import the data into a Pandas data frame using the URL:"
      ],
      "metadata": {
        "id": "4GBgRsbsKF68"
      }
    },
    {
      "cell_type": "code",
      "source": [
        "import pandas as pd\n",
        "import io\n",
        " \n",
        "All_countries = {'Germany' : 'DE',                          # We can create a dictionary for all the possible countries\n",
        "                 'Denmark' : 'DK',\n",
        "                 'France' : 'FR',\n",
        "                 'Poland' : 'PL',\n",
        "                 'United Kingdom' : 'UK',\n",
        "                 'Switzerland' : 'CH',\n",
        "                 'Sweden' : 'SE',\n",
        "                 'Czech Republic' : 'CZ'}\n",
        "\n",
        "Choosen_country = 'United Kingdom'                          # We can then define the country we want to look at\n",
        "Country = All_countries[Choosen_country]                    # This assigns the country code, i.e. 'UK' to Country\n",
        "\n",
        "URL = f'https://data.open-power-system-data.org/renewable_power_plants/2020-08-25/renewable_power_plants_{Country}.csv'\n",
        "                                                            # This can then be used to pull the specific file we want from the website\n",
        "\n",
        "df = pd.read_csv(URL, lineterminator='\\n', skipinitialspace=True)\n",
        "print(df)\n"
      ],
      "metadata": {
        "id": "KfTGjNAIqz-7"
      },
      "execution_count": null,
      "outputs": []
    },
    {
      "cell_type": "markdown",
      "source": [
        "As we can see this is a large file with many columns that are either not important to us, or not filled with any data. Thus we should look to remove them. Looking at all the headings when opening the csv file, the only columns we want to keep are 'electrical_capacity', 'energy_source_level_2', 'region' and 'country'. Due to `pandas` indexing, these correspond to columns 0, 2, 14 and 15. So we can go ahead and remove all the other unrequired columns."
      ],
      "metadata": {
        "id": "GK8bTK6PPdwS"
      }
    },
    {
      "cell_type": "code",
      "source": [
        "df = df.drop(df.columns[[1,3,4,5,6,7,8,9,10,11,12,13,16,17,18,19,20,21,22,23,24]], axis=1) \n",
        "\n",
        "print(df)"
      ],
      "metadata": {
        "id": "nJWDPLiKj_YY"
      },
      "execution_count": null,
      "outputs": []
    },
    {
      "cell_type": "markdown",
      "source": [
        "Now we need to find all the regions where renewable energy plants are stationed in the UK. This can be done by collecting all the unique regions mentioned in the column and collecting them in a list. "
      ],
      "metadata": {
        "id": "e1_CioQrTH0i"
      }
    },
    {
      "cell_type": "code",
      "source": [
        "region = df.region.unique().tolist()                        # This collects all different regions in the column 'region' and puts them in a list for us to use\n",
        "print(region)"
      ],
      "metadata": {
        "id": "qD76NG7cP1H6"
      },
      "execution_count": null,
      "outputs": []
    },
    {
      "cell_type": "markdown",
      "source": [
        "But wait. At the end of the list we can see there is a region called 'nan'. This isn't a region, it is what pandas puts at a point in the dataframe when there is missing or no data in the corresponding cell in the csv file. We could leave this in, but it's untidy, so it is better to remove it. "
      ],
      "metadata": {
        "id": "G_9bAlR8WZWN"
      }
    },
    {
      "cell_type": "code",
      "source": [
        "df = df.dropna()                                            # This command will remove rows that are missing data in one or more columns\n",
        "\n",
        "places = df.region.unique().tolist()                        # We can create a new list, where 'nan' isn't included\n",
        "print(places)"
      ],
      "metadata": {
        "id": "tkOh9L4wWDGv"
      },
      "execution_count": null,
      "outputs": []
    },
    {
      "cell_type": "markdown",
      "source": [
        "Say we now want to find out how much electrical capacity there is in each region of the UK from these renewable energy plants.  We can use a similar method to that used last time when we were calculating the solar energy produced."
      ],
      "metadata": {
        "id": "D4D8KUlkU8cW"
      }
    },
    {
      "cell_type": "code",
      "source": [
        "import pylab as plt\n",
        "import numpy as np\n",
        "\n",
        "sumcapacity = []                                            # Create an empty list to collect the summed capacity in\n",
        "\n",
        "for i in places:\n",
        "   sumcapacity.append((df.loc[df['region'] == i, 'electrical_capacity'].sum()))  # This makes use of the Boolean principles,\n",
        "                                                                              # It will sum the electrical capacity and deposit in the list created\n",
        "\n",
        "print(sumcapacity)\n",
        "\n",
        "height = sumcapacity                                        # We can then plot a bar graph to show this data\n",
        "bars = places\n",
        "y_pos = np.arange(len(bars))\n",
        "\n",
        "# Create bars\n",
        "plt.bar(y_pos, height)\n",
        "\n",
        "# Create names on the x-axis\n",
        "plt.xticks(y_pos, bars)\n",
        "plt.xticks(rotation=90)\n",
        "\n",
        "plt.xlabel('Regions')\n",
        "plt.ylabel('Electrical Capacity (MW)')\n",
        "\n",
        "# Show graphic\n",
        "plt.show()"
      ],
      "metadata": {
        "id": "z0-GnnctpF42"
      },
      "execution_count": null,
      "outputs": []
    },
    {
      "cell_type": "markdown",
      "source": [
        "We can again use a pie chart to show the share of the UK's capacity between regions."
      ],
      "metadata": {
        "id": "q5mlU_rVZXnO"
      }
    },
    {
      "cell_type": "code",
      "source": [
        "# Create a pieplot\n",
        "plt.pie(sumcapacity, labels=places, labeldistance=1.15);\n",
        "\n",
        "plt.show()"
      ],
      "metadata": {
        "id": "KLi23WHVwuzz"
      },
      "execution_count": null,
      "outputs": []
    },
    {
      "cell_type": "markdown",
      "source": [
        "We can also apply filters to extract specific data from the dataframe. So for example, we can filter the data down to only renewable solar sources in Scotland, and find the total capacity for solar energy. "
      ],
      "metadata": {
        "id": "mj6YuGP9b1Bz"
      }
    },
    {
      "cell_type": "code",
      "source": [
        "is_scotland =  df['region']=='Scotland'                     # All the rows which contain 'Scotland' in the region column are collected\n",
        "                                                          \n",
        "\n",
        "df_scotland = df[is_scotland]                               # And a new dataframe is made which contains only these rows  \n",
        "print(df_scotland)\n",
        "\n",
        "is_solar = df_scotland['energy_source_level_2']=='Solar'    # We repeat this process, although this time we collect all the rows which contain 'solar' in the source column\n",
        "df_scot_solar = df_scotland[is_solar]                       # And a new dataframe is created again\n",
        "print(df_scot_solar)\n",
        "\n",
        "Total = df_scot_solar['electrical_capacity'].sum()          # We can then sum the values in the second data frame created to find a total value for solar capacity\n",
        "print(f'Scotlands electrical capacity from solar sources is {Total} MW')    # And then print this on the sheet\n"
      ],
      "metadata": {
        "id": "21a5h1tObxsX"
      },
      "execution_count": null,
      "outputs": []
    },
    {
      "cell_type": "markdown",
      "source": [
        "A violin plot can be used to show the distribution of the capcaity of all the solar sources."
      ],
      "metadata": {
        "id": "F-HoaRlfkG9b"
      }
    },
    {
      "cell_type": "code",
      "source": [
        "import seaborn as sns\n",
        "\n",
        "sns.set(style=\"darkgrid\")\n",
        "\n",
        " \n",
        "# Make boxplot for one group only\n",
        "ax = sns.violinplot(y=df_scot_solar[\"electrical_capacity\"])\n",
        "# ax = sns.violinplot(y=df_scot_solar[\"electrical_capacity\"], cut =0)         # This line can be used in place of the one above, to give a graph showing no neg. values\n",
        "ax.set_ylabel(\"Electrical Capacity (MW)\")\n",
        "ax.set_xlabel(\"Scotland\")\n",
        "\n",
        "plt.show()"
      ],
      "metadata": {
        "id": "r_joSV_0e27Q"
      },
      "execution_count": null,
      "outputs": []
    },
    {
      "cell_type": "markdown",
      "source": [
        "Again, we see a negative range on this graph, but as explained in the previous worksheet this isn't negative values of data.\n",
        "\n",
        "Say we now want to look at hydro plants in Scotland and their capacity. "
      ],
      "metadata": {
        "id": "fzkHG7CciQMt"
      }
    },
    {
      "cell_type": "code",
      "source": [
        "is_hydro = df_scotland['energy_source_level_2']=='Hydro'    \n",
        "df_scot_hydro = df_scotland[is_hydro]                       \n",
        "\n",
        "\n",
        "Total = df_scot_hydro['electrical_capacity'].sum()           \n",
        "print(f'Scotlands electrical capacity from hydro sources is {Total} MW')    \n"
      ],
      "metadata": {
        "id": "Lvv9gq2fiWvr"
      },
      "execution_count": null,
      "outputs": []
    },
    {
      "cell_type": "markdown",
      "source": [
        "### Conclusion\n",
        "\n",
        "We have looked at another dataset, and learnt more about filtering data out to find the results we want. We also now know how to import data directly from a csv file uploaded onto a website. "
      ],
      "metadata": {
        "id": "Fbzz03XxziiQ"
      }
    }
  ]
}